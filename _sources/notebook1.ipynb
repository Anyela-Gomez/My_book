{
 "cells": [
  {
   "cell_type": "code",
   "execution_count": 1,
   "id": "51ac40fe",
   "metadata": {},
   "outputs": [
    {
     "name": "stdout",
     "output_type": "stream",
     "text": [
      "¡Hola desde Jupyter Book!\n"
     ]
    }
   ],
   "source": [
    "print(\"¡Hola desde Jupyter Book!\")"
   ]
  },
  {
   "cell_type": "markdown",
   "id": "78adfbf7",
   "metadata": {},
   "source": [
    "# Mi primer notebook en Jupyter Book\n",
    "    \n",
    "    Este es un ejemplo básico para que los alumnos vean cómo se integra un notebook en un libro.\n"
   ]
  },
  {
   "cell_type": "code",
   "execution_count": 4,
   "id": "f1de4f6e",
   "metadata": {},
   "outputs": [
    {
     "name": "stdout",
     "output_type": "stream",
     "text": [
      "Hola, . Bienvenido a Jupyter Book.\n"
     ]
    }
   ],
   "source": [
    "nombre= input (\"¿Cuál es tu nombre? \")\n",
    "print(f\"Hola, {nombre}. Bienvenido a Jupyter Book.\")"
   ]
  },
  {
   "cell_type": "markdown",
   "id": "e9fe91b7",
   "metadata": {},
   "source": [
    "## ¿Qué aprendimos?\n",
    "\n",
    "- Cómo crear un libro  \n",
    "- Cómo agregar notebooks  \n",
    "- Cómo publicar en GitHub Pages\n"
   ]
  }
 ],
 "metadata": {
  "kernelspec": {
   "display_name": "venv",
   "language": "python",
   "name": "python3"
  },
  "language_info": {
   "codemirror_mode": {
    "name": "ipython",
    "version": 3
   },
   "file_extension": ".py",
   "mimetype": "text/x-python",
   "name": "python",
   "nbconvert_exporter": "python",
   "pygments_lexer": "ipython3",
   "version": "3.13.7"
  }
 },
 "nbformat": 4,
 "nbformat_minor": 5
}
